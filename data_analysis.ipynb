{
 "metadata": {
  "language_info": {
   "codemirror_mode": {
    "name": "ipython",
    "version": 3
   },
   "file_extension": ".py",
   "mimetype": "text/x-python",
   "name": "python",
   "nbconvert_exporter": "python",
   "pygments_lexer": "ipython3",
   "version": "3.8.8"
  },
  "orig_nbformat": 2,
  "kernelspec": {
   "name": "python388jvsc74a57bd056edcafb40a48ac9331f4cd83ce0dae2cb35b505e0a45e3fd20930a2ac883a33",
   "display_name": "Python 3.8.8 64-bit ('sbaio': conda)"
  },
  "metadata": {
   "interpreter": {
    "hash": "56edcafb40a48ac9331f4cd83ce0dae2cb35b505e0a45e3fd20930a2ac883a33"
   }
  }
 },
 "nbformat": 4,
 "nbformat_minor": 2,
 "cells": [
  {
   "cell_type": "code",
   "execution_count": null,
   "metadata": {},
   "outputs": [],
   "source": [
    "%load_ext autoreload\n",
    "%autoreload 2\n",
    "import pandas as pd\n",
    "# from main import load_training_data, fill_missing_values\n",
    "\n",
    "# features, target, customerId = load_training_data()\n",
    "\n",
    "# features = fill_missing_values(features)\n",
    "\n",
    "# load data\n",
    "df = pd.read_csv(\"data/labels_training.txt\")\n",
    "views = pd.read_csv(\"data/views.txt\")\n",
    "views = views.drop(columns=['imageZoom']) # discard imageZoom column since all 0 but 1 value\n",
    "aggr_views = views.groupby(['customerId','productId']).sum() # aggregate the views of a customer of a product by summing\n",
    "\n",
    "# add customer info\n",
    "customers = pd.read_csv(\"data/customers.txt\")\n",
    "df = pd.merge(df, customers, left_on=['customerId'], right_on=['customerId'], how='left')\n",
    "# add product info\n",
    "products = pd.read_csv(\"data/products.txt\")\n",
    "products = products.drop(columns=['dateOnSite'])\n",
    "df = pd.merge(df, products, left_on=['productId'], right_on=['productId'], how='left')\n",
    "# add views info\n",
    "df = pd.merge(df, aggr_views, right_index=True, left_on=['customerId', 'productId'])\n",
    "\n",
    "print(\"Dropping all rows with nan\")\n",
    "df.dropna(inplace=True) # TODO: temporarily remove all rows with missing info\n",
    "print(df.shape)"
   ]
  },
  {
   "cell_type": "code",
   "execution_count": null,
   "metadata": {},
   "outputs": [],
   "source": [
    "df"
   ]
  },
  {
   "cell_type": "code",
   "execution_count": null,
   "metadata": {},
   "outputs": [],
   "source": [
    "from argparse import Namespace\n",
    "import pandas as pd\n",
    "from sklearn.compose import make_column_transformer\n",
    "from main import *\n",
    "\n",
    "args = Namespace(data_frac=0.1, max_depth=3, model='BoostedTree', nestimators=100, nfolds=10, seed=7, verbose=0)\n",
    "\n",
    "print(args)\n",
    "\n",
    "np.random.seed(args.seed)\n",
    "\n",
    "print(\"Loading data ...\")\n",
    "features, target, customerId = load_training_data(args)\n",
    "\n",
    "## preprocessing features\n",
    "# fill missing values\n",
    "print(\"Filling missing values\")\n",
    "features = fill_missing_values(features)\n",
    "\n",
    "# encode categorical variables\n",
    "column_trans = make_column_transformer(\n",
    "    (OneHotEncoder(), [\"country\", \"brand\", \"productType\", \"isFemale\", \"isPremier\", \"onSale\"]),\n",
    "    remainder=\"passthrough\",\n",
    ")\n",
    "print(\"Fitting column transformer on categorical variables\")\n",
    "column_trans.fit(features)"
   ]
  },
  {
   "cell_type": "code",
   "execution_count": null,
   "metadata": {},
   "outputs": [],
   "source": [
    "print(\"Starting cross-validation\")\n",
    "kfold = GroupKFold(n_splits=args.nfolds)\n",
    "\n",
    "aucs = []\n",
    "for train_index, val_index in kfold.split(X=features, groups=customerId):\n",
    "    break"
   ]
  },
  {
   "cell_type": "code",
   "execution_count": null,
   "metadata": {},
   "outputs": [],
   "source": [
    "features"
   ]
  },
  {
   "cell_type": "code",
   "execution_count": null,
   "metadata": {},
   "outputs": [],
   "source": [
    "train_features = column_trans.transform(features.iloc[train_index])\n",
    "train_features"
   ]
  },
  {
   "cell_type": "code",
   "execution_count": null,
   "metadata": {},
   "outputs": [],
   "source": [
    "train_targets = target.iloc[train_index]\n",
    "train_targets"
   ]
  },
  {
   "cell_type": "code",
   "execution_count": null,
   "metadata": {},
   "outputs": [],
   "source": [
    "from sklearn.ensemble import GradientBoostingClassifier\n",
    "clf = GradientBoostingClassifier(n_estimators=args.nestimators, random_state=args.seed, max_depth=args.max_depth, verbose=args.verbose)"
   ]
  },
  {
   "cell_type": "code",
   "execution_count": null,
   "metadata": {},
   "outputs": [],
   "source": [
    "clf.fit(train_features, train_targets)"
   ]
  },
  {
   "cell_type": "code",
   "execution_count": null,
   "metadata": {},
   "outputs": [],
   "source": [
    "val_features = column_trans.transform(features.iloc[val_index])\n",
    "val_targets = target.iloc[val_index]"
   ]
  },
  {
   "cell_type": "code",
   "execution_count": null,
   "metadata": {},
   "outputs": [],
   "source": [
    "val_pred = clf.predict_proba(val_features)[:,1]\n",
    "auc = roc_auc_score(val_targets, val_pred)"
   ]
  },
  {
   "cell_type": "code",
   "execution_count": null,
   "metadata": {},
   "outputs": [],
   "source": [
    "auc"
   ]
  },
  {
   "cell_type": "code",
   "execution_count": null,
   "metadata": {},
   "outputs": [],
   "source": []
  }
 ]
}