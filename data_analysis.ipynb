{
 "metadata": {
  "language_info": {
   "codemirror_mode": {
    "name": "ipython",
    "version": 3
   },
   "file_extension": ".py",
   "mimetype": "text/x-python",
   "name": "python",
   "nbconvert_exporter": "python",
   "pygments_lexer": "ipython3",
   "version": "3.8.8"
  },
  "orig_nbformat": 2,
  "kernelspec": {
   "name": "python388jvsc74a57bd056edcafb40a48ac9331f4cd83ce0dae2cb35b505e0a45e3fd20930a2ac883a33",
   "display_name": "Python 3.8.8 64-bit ('sbaio': conda)"
  },
  "metadata": {
   "interpreter": {
    "hash": "56edcafb40a48ac9331f4cd83ce0dae2cb35b505e0a45e3fd20930a2ac883a33"
   }
  }
 },
 "nbformat": 4,
 "nbformat_minor": 2,
 "cells": [
  {
   "cell_type": "code",
   "execution_count": 1,
   "metadata": {},
   "outputs": [
    {
     "output_type": "stream",
     "name": "stdout",
     "text": [
      "Dropping all rows with nan\n",
      "(12327602, 16)\n"
     ]
    }
   ],
   "source": [
    "%load_ext autoreload\n",
    "%autoreload 2\n",
    "import pandas as pd\n",
    "# from main import load_training_data, fill_missing_values\n",
    "\n",
    "# features, target, customerId = load_training_data()\n",
    "\n",
    "# features = fill_missing_values(features)\n",
    "\n",
    "# load data\n",
    "df = pd.read_csv(\"data/labels_training.txt\")\n",
    "views = pd.read_csv(\"data/views.txt\")\n",
    "views = views.drop(columns=['imageZoom']) # discard imageZoom column since all 0 but 1 value\n",
    "aggr_views = views.groupby(['customerId','productId']).sum() # aggregate the views of a customer of a product by summing\n",
    "\n",
    "# add customer info\n",
    "customers = pd.read_csv(\"data/customers.txt\")\n",
    "df = pd.merge(df, customers, left_on=['customerId'], right_on=['customerId'], how='left')\n",
    "# add product info\n",
    "products = pd.read_csv(\"data/products.txt\")\n",
    "products = products.drop(columns=['dateOnSite'])\n",
    "df = pd.merge(df, products, left_on=['productId'], right_on=['productId'], how='left')\n",
    "# add views info\n",
    "df = pd.merge(df, aggr_views, right_index=True, left_on=['customerId', 'productId'])\n",
    "\n",
    "print(\"Dropping all rows with nan\")\n",
    "df.dropna(inplace=True) # TODO: temporarily remove all rows with missing info\n",
    "print(df.shape)"
   ]
  },
  {
   "cell_type": "code",
   "execution_count": 2,
   "metadata": {},
   "outputs": [
    {
     "output_type": "execute_result",
     "data": {
      "text/plain": [
       "          customerId  productId  purchased isFemale        country  \\\n",
       "0                  0    6055193      False     True  United States   \n",
       "1                  0    6150738      False     True  United States   \n",
       "2                  0    6974997      False     True  United States   \n",
       "3                  0    7237821      False     True  United States   \n",
       "4                  0    7376730      False     True  United States   \n",
       "...              ...        ...        ...      ...            ...   \n",
       "13481424      399475    7157178      False     True        Germany   \n",
       "13481425      399475    7277739      False     True        Germany   \n",
       "13481426      399475    7426863      False     True        Germany   \n",
       "13481427      399477    6495819      False     True        Germany   \n",
       "13481428      399478    5739201      False    False        Germany   \n",
       "\n",
       "          yearOfBirth isPremier  brand  price  productType  onSale  viewOnly  \\\n",
       "0              1988.0     False     53  20.00         4036   False         1   \n",
       "1              1988.0     False   3275  24.00         4036   False         0   \n",
       "2              1988.0     False     53  20.00         4036   False         1   \n",
       "3              1988.0     False     53  20.00         4036   False         0   \n",
       "4              1988.0     False  13817  12.99         4036   False         1   \n",
       "...               ...       ...    ...    ...          ...     ...       ...   \n",
       "13481424       1964.0     False  15040  32.00         1465    True         1   \n",
       "13481425       1964.0     False     53  55.00         1465   False         1   \n",
       "13481426       1964.0     False  14809  50.00         1465   False         2   \n",
       "13481427       1968.0     False     53  17.50         1562    True         1   \n",
       "13481428       1964.0     False  12769  26.00         3717    True         1   \n",
       "\n",
       "          changeThumbnail  viewCatwalk  view360  sizeGuide  \n",
       "0                       1            0        0          0  \n",
       "1                       1            0        0          0  \n",
       "2                       1            0        0          0  \n",
       "3                       2            0        0          0  \n",
       "4                       1            0        0          0  \n",
       "...                   ...          ...      ...        ...  \n",
       "13481424                1            0        0          0  \n",
       "13481425                0            1        0          0  \n",
       "13481426                0            1        0          0  \n",
       "13481427                0            0        0          0  \n",
       "13481428                1            0        0          0  \n",
       "\n",
       "[12327602 rows x 16 columns]"
      ],
      "text/html": "<div>\n<style scoped>\n    .dataframe tbody tr th:only-of-type {\n        vertical-align: middle;\n    }\n\n    .dataframe tbody tr th {\n        vertical-align: top;\n    }\n\n    .dataframe thead th {\n        text-align: right;\n    }\n</style>\n<table border=\"1\" class=\"dataframe\">\n  <thead>\n    <tr style=\"text-align: right;\">\n      <th></th>\n      <th>customerId</th>\n      <th>productId</th>\n      <th>purchased</th>\n      <th>isFemale</th>\n      <th>country</th>\n      <th>yearOfBirth</th>\n      <th>isPremier</th>\n      <th>brand</th>\n      <th>price</th>\n      <th>productType</th>\n      <th>onSale</th>\n      <th>viewOnly</th>\n      <th>changeThumbnail</th>\n      <th>viewCatwalk</th>\n      <th>view360</th>\n      <th>sizeGuide</th>\n    </tr>\n  </thead>\n  <tbody>\n    <tr>\n      <th>0</th>\n      <td>0</td>\n      <td>6055193</td>\n      <td>False</td>\n      <td>True</td>\n      <td>United States</td>\n      <td>1988.0</td>\n      <td>False</td>\n      <td>53</td>\n      <td>20.00</td>\n      <td>4036</td>\n      <td>False</td>\n      <td>1</td>\n      <td>1</td>\n      <td>0</td>\n      <td>0</td>\n      <td>0</td>\n    </tr>\n    <tr>\n      <th>1</th>\n      <td>0</td>\n      <td>6150738</td>\n      <td>False</td>\n      <td>True</td>\n      <td>United States</td>\n      <td>1988.0</td>\n      <td>False</td>\n      <td>3275</td>\n      <td>24.00</td>\n      <td>4036</td>\n      <td>False</td>\n      <td>0</td>\n      <td>1</td>\n      <td>0</td>\n      <td>0</td>\n      <td>0</td>\n    </tr>\n    <tr>\n      <th>2</th>\n      <td>0</td>\n      <td>6974997</td>\n      <td>False</td>\n      <td>True</td>\n      <td>United States</td>\n      <td>1988.0</td>\n      <td>False</td>\n      <td>53</td>\n      <td>20.00</td>\n      <td>4036</td>\n      <td>False</td>\n      <td>1</td>\n      <td>1</td>\n      <td>0</td>\n      <td>0</td>\n      <td>0</td>\n    </tr>\n    <tr>\n      <th>3</th>\n      <td>0</td>\n      <td>7237821</td>\n      <td>False</td>\n      <td>True</td>\n      <td>United States</td>\n      <td>1988.0</td>\n      <td>False</td>\n      <td>53</td>\n      <td>20.00</td>\n      <td>4036</td>\n      <td>False</td>\n      <td>0</td>\n      <td>2</td>\n      <td>0</td>\n      <td>0</td>\n      <td>0</td>\n    </tr>\n    <tr>\n      <th>4</th>\n      <td>0</td>\n      <td>7376730</td>\n      <td>False</td>\n      <td>True</td>\n      <td>United States</td>\n      <td>1988.0</td>\n      <td>False</td>\n      <td>13817</td>\n      <td>12.99</td>\n      <td>4036</td>\n      <td>False</td>\n      <td>1</td>\n      <td>1</td>\n      <td>0</td>\n      <td>0</td>\n      <td>0</td>\n    </tr>\n    <tr>\n      <th>...</th>\n      <td>...</td>\n      <td>...</td>\n      <td>...</td>\n      <td>...</td>\n      <td>...</td>\n      <td>...</td>\n      <td>...</td>\n      <td>...</td>\n      <td>...</td>\n      <td>...</td>\n      <td>...</td>\n      <td>...</td>\n      <td>...</td>\n      <td>...</td>\n      <td>...</td>\n      <td>...</td>\n    </tr>\n    <tr>\n      <th>13481424</th>\n      <td>399475</td>\n      <td>7157178</td>\n      <td>False</td>\n      <td>True</td>\n      <td>Germany</td>\n      <td>1964.0</td>\n      <td>False</td>\n      <td>15040</td>\n      <td>32.00</td>\n      <td>1465</td>\n      <td>True</td>\n      <td>1</td>\n      <td>1</td>\n      <td>0</td>\n      <td>0</td>\n      <td>0</td>\n    </tr>\n    <tr>\n      <th>13481425</th>\n      <td>399475</td>\n      <td>7277739</td>\n      <td>False</td>\n      <td>True</td>\n      <td>Germany</td>\n      <td>1964.0</td>\n      <td>False</td>\n      <td>53</td>\n      <td>55.00</td>\n      <td>1465</td>\n      <td>False</td>\n      <td>1</td>\n      <td>0</td>\n      <td>1</td>\n      <td>0</td>\n      <td>0</td>\n    </tr>\n    <tr>\n      <th>13481426</th>\n      <td>399475</td>\n      <td>7426863</td>\n      <td>False</td>\n      <td>True</td>\n      <td>Germany</td>\n      <td>1964.0</td>\n      <td>False</td>\n      <td>14809</td>\n      <td>50.00</td>\n      <td>1465</td>\n      <td>False</td>\n      <td>2</td>\n      <td>0</td>\n      <td>1</td>\n      <td>0</td>\n      <td>0</td>\n    </tr>\n    <tr>\n      <th>13481427</th>\n      <td>399477</td>\n      <td>6495819</td>\n      <td>False</td>\n      <td>True</td>\n      <td>Germany</td>\n      <td>1968.0</td>\n      <td>False</td>\n      <td>53</td>\n      <td>17.50</td>\n      <td>1562</td>\n      <td>True</td>\n      <td>1</td>\n      <td>0</td>\n      <td>0</td>\n      <td>0</td>\n      <td>0</td>\n    </tr>\n    <tr>\n      <th>13481428</th>\n      <td>399478</td>\n      <td>5739201</td>\n      <td>False</td>\n      <td>False</td>\n      <td>Germany</td>\n      <td>1964.0</td>\n      <td>False</td>\n      <td>12769</td>\n      <td>26.00</td>\n      <td>3717</td>\n      <td>True</td>\n      <td>1</td>\n      <td>1</td>\n      <td>0</td>\n      <td>0</td>\n      <td>0</td>\n    </tr>\n  </tbody>\n</table>\n<p>12327602 rows × 16 columns</p>\n</div>"
     },
     "metadata": {},
     "execution_count": 2
    }
   ],
   "source": [
    "df"
   ]
  },
  {
   "cell_type": "code",
   "execution_count": null,
   "metadata": {},
   "outputs": [],
   "source": []
  }
 ]
}