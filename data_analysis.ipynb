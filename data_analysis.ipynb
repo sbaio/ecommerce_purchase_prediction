{
 "metadata": {
  "language_info": {
   "codemirror_mode": {
    "name": "ipython",
    "version": 3
   },
   "file_extension": ".py",
   "mimetype": "text/x-python",
   "name": "python",
   "nbconvert_exporter": "python",
   "pygments_lexer": "ipython3",
   "version": "3.8.8"
  },
  "orig_nbformat": 2,
  "kernelspec": {
   "name": "python388jvsc74a57bd056edcafb40a48ac9331f4cd83ce0dae2cb35b505e0a45e3fd20930a2ac883a33",
   "display_name": "Python 3.8.8 64-bit ('sbaio': conda)"
  },
  "metadata": {
   "interpreter": {
    "hash": "56edcafb40a48ac9331f4cd83ce0dae2cb35b505e0a45e3fd20930a2ac883a33"
   }
  }
 },
 "nbformat": 4,
 "nbformat_minor": 2,
 "cells": [
  {
   "cell_type": "code",
   "execution_count": 1,
   "metadata": {},
   "outputs": [],
   "source": [
    "import pandas as pd"
   ]
  },
  {
   "cell_type": "code",
   "execution_count": 2,
   "metadata": {},
   "outputs": [
    {
     "output_type": "stream",
     "name": "stdout",
     "text": [
      "(1543041, 5)\n",
      "(3345261, 3)\n"
     ]
    },
    {
     "output_type": "execute_result",
     "data": {
      "text/plain": [
       "(1526062, 5)"
      ]
     },
     "metadata": {},
     "execution_count": 2
    }
   ],
   "source": [
    "purchases = pd.read_csv(\"data/purchases.txt\")\n",
    "purchases = purchases[purchases['date'] < '2016-12-31T23:59:59'] # consider only dates before january\n",
    "print(purchases.shape)\n",
    "test_df = pd.read_csv(\"data/labels_predict.txt\")\n",
    "print(test_df.shape)\n",
    "\n",
    "# remove customer-product pairs in test dataframe\n",
    "purchases['customer_product'] = purchases['customerId'].astype(str) + '_' + purchases['productId'].astype(str)\n",
    "test_df['customer_product'] = test_df['customerId'].astype(str) + '_' + test_df['productId'].astype(str)\n",
    "\n",
    "filtered_purchases = purchases[~purchases.customer_product.isin(test_df.customer_product)].drop(columns=['customer_product'])\n",
    "filtered_purchases.shape"
   ]
  },
  {
   "cell_type": "code",
   "execution_count": 3,
   "metadata": {},
   "outputs": [
    {
     "output_type": "stream",
     "name": "stdout",
     "text": [
      "           purchaseCount\nproductId               \n97242                  1\n152384                86\n219628                14\n247775                12\n247790                 4\n...                  ...\n7706103                2\n7710905                9\n7728621               18\n7739265                1\n7749551                4\n\n[130445 rows x 1 columns]\n            purchaseCount\ncustomerId               \n1                      16\n5                       6\n9                      18\n11                     12\n20                      2\n...                   ...\n399460                 12\n399469                  3\n399472                 26\n399473                 16\n399474                  4\n\n[191731 rows x 1 columns]\n"
     ]
    }
   ],
   "source": [
    "# count number of purchases per product\n",
    "filtered_purchases['purchaseCount'] = 1\n",
    "product_purchase_count = filtered_purchases.groupby('productId').agg({'purchaseCount':'sum'})\n",
    "print(product_purchase_count)\n",
    "customer_purchase_count = filtered_purchases.groupby('customerId').agg({'purchaseCount':'sum'})\n",
    "print(customer_purchase_count)\n",
    "# filtered_purchases.groupby('productId').agg({'purchasePrice': ['min', 'max', 'mean', 'median']})"
   ]
  },
  {
   "cell_type": "code",
   "execution_count": 4,
   "metadata": {},
   "outputs": [
    {
     "output_type": "execute_result",
     "data": {
      "text/plain": [
       "        productId  brand  price  productType  onSale           dateOnSite\n",
       "0         5686531     53   22.5         1562    True  2015-12-21T12:38:21\n",
       "1         7646044  14095    8.0         1479   False  2016-12-28T11:28:11\n",
       "2         6411771    298  291.5         1624    True  2016-12-12T12:01:40\n",
       "3         6248061  12335   36.0         1465    True  2016-07-07T11:44:09\n",
       "4         6789251  12840   22.0         4033    True  2016-08-01T12:04:26\n",
       "...           ...    ...    ...          ...     ...                  ...\n",
       "192491    7099978   3594   42.5          727    True  2016-09-12T11:47:53\n",
       "192492    7370190    608   33.0         1600   False  2016-12-21T13:26:23\n",
       "192493    6659483  14967    7.5         4238    True  2016-07-25T12:13:02\n",
       "192494    7013185     53   32.5         1465    True  2016-12-19T22:59:48\n",
       "192495    6021411     53   18.0         1562    True  2016-05-19T08:14:18\n",
       "\n",
       "[192496 rows x 6 columns]"
      ],
      "text/html": "<div>\n<style scoped>\n    .dataframe tbody tr th:only-of-type {\n        vertical-align: middle;\n    }\n\n    .dataframe tbody tr th {\n        vertical-align: top;\n    }\n\n    .dataframe thead th {\n        text-align: right;\n    }\n</style>\n<table border=\"1\" class=\"dataframe\">\n  <thead>\n    <tr style=\"text-align: right;\">\n      <th></th>\n      <th>productId</th>\n      <th>brand</th>\n      <th>price</th>\n      <th>productType</th>\n      <th>onSale</th>\n      <th>dateOnSite</th>\n    </tr>\n  </thead>\n  <tbody>\n    <tr>\n      <th>0</th>\n      <td>5686531</td>\n      <td>53</td>\n      <td>22.5</td>\n      <td>1562</td>\n      <td>True</td>\n      <td>2015-12-21T12:38:21</td>\n    </tr>\n    <tr>\n      <th>1</th>\n      <td>7646044</td>\n      <td>14095</td>\n      <td>8.0</td>\n      <td>1479</td>\n      <td>False</td>\n      <td>2016-12-28T11:28:11</td>\n    </tr>\n    <tr>\n      <th>2</th>\n      <td>6411771</td>\n      <td>298</td>\n      <td>291.5</td>\n      <td>1624</td>\n      <td>True</td>\n      <td>2016-12-12T12:01:40</td>\n    </tr>\n    <tr>\n      <th>3</th>\n      <td>6248061</td>\n      <td>12335</td>\n      <td>36.0</td>\n      <td>1465</td>\n      <td>True</td>\n      <td>2016-07-07T11:44:09</td>\n    </tr>\n    <tr>\n      <th>4</th>\n      <td>6789251</td>\n      <td>12840</td>\n      <td>22.0</td>\n      <td>4033</td>\n      <td>True</td>\n      <td>2016-08-01T12:04:26</td>\n    </tr>\n    <tr>\n      <th>...</th>\n      <td>...</td>\n      <td>...</td>\n      <td>...</td>\n      <td>...</td>\n      <td>...</td>\n      <td>...</td>\n    </tr>\n    <tr>\n      <th>192491</th>\n      <td>7099978</td>\n      <td>3594</td>\n      <td>42.5</td>\n      <td>727</td>\n      <td>True</td>\n      <td>2016-09-12T11:47:53</td>\n    </tr>\n    <tr>\n      <th>192492</th>\n      <td>7370190</td>\n      <td>608</td>\n      <td>33.0</td>\n      <td>1600</td>\n      <td>False</td>\n      <td>2016-12-21T13:26:23</td>\n    </tr>\n    <tr>\n      <th>192493</th>\n      <td>6659483</td>\n      <td>14967</td>\n      <td>7.5</td>\n      <td>4238</td>\n      <td>True</td>\n      <td>2016-07-25T12:13:02</td>\n    </tr>\n    <tr>\n      <th>192494</th>\n      <td>7013185</td>\n      <td>53</td>\n      <td>32.5</td>\n      <td>1465</td>\n      <td>True</td>\n      <td>2016-12-19T22:59:48</td>\n    </tr>\n    <tr>\n      <th>192495</th>\n      <td>6021411</td>\n      <td>53</td>\n      <td>18.0</td>\n      <td>1562</td>\n      <td>True</td>\n      <td>2016-05-19T08:14:18</td>\n    </tr>\n  </tbody>\n</table>\n<p>192496 rows × 6 columns</p>\n</div>"
     },
     "metadata": {},
     "execution_count": 4
    }
   ],
   "source": [
    "products = pd.read_csv(\"data/products.txt\")\n",
    "products"
   ]
  },
  {
   "cell_type": "code",
   "execution_count": 6,
   "metadata": {},
   "outputs": [
    {
     "output_type": "execute_result",
     "data": {
      "text/plain": [
       "        productId  brand  price  productType  onSale           dateOnSite  \\\n",
       "0         5686531     53   22.5         1562    True  2015-12-21T12:38:21   \n",
       "1         7646044  14095    8.0         1479   False  2016-12-28T11:28:11   \n",
       "2         6411771    298  291.5         1624    True  2016-12-12T12:01:40   \n",
       "3         6248061  12335   36.0         1465    True  2016-07-07T11:44:09   \n",
       "4         6789251  12840   22.0         4033    True  2016-08-01T12:04:26   \n",
       "...           ...    ...    ...          ...     ...                  ...   \n",
       "192491    7099978   3594   42.5          727    True  2016-09-12T11:47:53   \n",
       "192492    7370190    608   33.0         1600   False  2016-12-21T13:26:23   \n",
       "192493    6659483  14967    7.5         4238    True  2016-07-25T12:13:02   \n",
       "192494    7013185     53   32.5         1465    True  2016-12-19T22:59:48   \n",
       "192495    6021411     53   18.0         1562    True  2016-05-19T08:14:18   \n",
       "\n",
       "        purchaseCount  \n",
       "0                 6.0  \n",
       "1                 0.0  \n",
       "2                 0.0  \n",
       "3                 0.0  \n",
       "4                 3.0  \n",
       "...               ...  \n",
       "192491           11.0  \n",
       "192492            0.0  \n",
       "192493            4.0  \n",
       "192494            9.0  \n",
       "192495           13.0  \n",
       "\n",
       "[192496 rows x 7 columns]"
      ],
      "text/html": "<div>\n<style scoped>\n    .dataframe tbody tr th:only-of-type {\n        vertical-align: middle;\n    }\n\n    .dataframe tbody tr th {\n        vertical-align: top;\n    }\n\n    .dataframe thead th {\n        text-align: right;\n    }\n</style>\n<table border=\"1\" class=\"dataframe\">\n  <thead>\n    <tr style=\"text-align: right;\">\n      <th></th>\n      <th>productId</th>\n      <th>brand</th>\n      <th>price</th>\n      <th>productType</th>\n      <th>onSale</th>\n      <th>dateOnSite</th>\n      <th>purchaseCount</th>\n    </tr>\n  </thead>\n  <tbody>\n    <tr>\n      <th>0</th>\n      <td>5686531</td>\n      <td>53</td>\n      <td>22.5</td>\n      <td>1562</td>\n      <td>True</td>\n      <td>2015-12-21T12:38:21</td>\n      <td>6.0</td>\n    </tr>\n    <tr>\n      <th>1</th>\n      <td>7646044</td>\n      <td>14095</td>\n      <td>8.0</td>\n      <td>1479</td>\n      <td>False</td>\n      <td>2016-12-28T11:28:11</td>\n      <td>0.0</td>\n    </tr>\n    <tr>\n      <th>2</th>\n      <td>6411771</td>\n      <td>298</td>\n      <td>291.5</td>\n      <td>1624</td>\n      <td>True</td>\n      <td>2016-12-12T12:01:40</td>\n      <td>0.0</td>\n    </tr>\n    <tr>\n      <th>3</th>\n      <td>6248061</td>\n      <td>12335</td>\n      <td>36.0</td>\n      <td>1465</td>\n      <td>True</td>\n      <td>2016-07-07T11:44:09</td>\n      <td>0.0</td>\n    </tr>\n    <tr>\n      <th>4</th>\n      <td>6789251</td>\n      <td>12840</td>\n      <td>22.0</td>\n      <td>4033</td>\n      <td>True</td>\n      <td>2016-08-01T12:04:26</td>\n      <td>3.0</td>\n    </tr>\n    <tr>\n      <th>...</th>\n      <td>...</td>\n      <td>...</td>\n      <td>...</td>\n      <td>...</td>\n      <td>...</td>\n      <td>...</td>\n      <td>...</td>\n    </tr>\n    <tr>\n      <th>192491</th>\n      <td>7099978</td>\n      <td>3594</td>\n      <td>42.5</td>\n      <td>727</td>\n      <td>True</td>\n      <td>2016-09-12T11:47:53</td>\n      <td>11.0</td>\n    </tr>\n    <tr>\n      <th>192492</th>\n      <td>7370190</td>\n      <td>608</td>\n      <td>33.0</td>\n      <td>1600</td>\n      <td>False</td>\n      <td>2016-12-21T13:26:23</td>\n      <td>0.0</td>\n    </tr>\n    <tr>\n      <th>192493</th>\n      <td>6659483</td>\n      <td>14967</td>\n      <td>7.5</td>\n      <td>4238</td>\n      <td>True</td>\n      <td>2016-07-25T12:13:02</td>\n      <td>4.0</td>\n    </tr>\n    <tr>\n      <th>192494</th>\n      <td>7013185</td>\n      <td>53</td>\n      <td>32.5</td>\n      <td>1465</td>\n      <td>True</td>\n      <td>2016-12-19T22:59:48</td>\n      <td>9.0</td>\n    </tr>\n    <tr>\n      <th>192495</th>\n      <td>6021411</td>\n      <td>53</td>\n      <td>18.0</td>\n      <td>1562</td>\n      <td>True</td>\n      <td>2016-05-19T08:14:18</td>\n      <td>13.0</td>\n    </tr>\n  </tbody>\n</table>\n<p>192496 rows × 7 columns</p>\n</div>"
     },
     "metadata": {},
     "execution_count": 6
    }
   ],
   "source": [
    "products_with_count = pd.merge(products, product_purchase_count, left_on=['productId'], right_on=['productId'], how='left')\n",
    "products_with_count.purchaseCount.fillna(0, inplace=True)\n",
    "products_with_count"
   ]
  },
  {
   "cell_type": "code",
   "execution_count": 52,
   "metadata": {},
   "outputs": [
    {
     "output_type": "execute_result",
     "data": {
      "text/plain": [
       "        productId  brand  price  productType  onSale           dateOnSite  \\\n",
       "0         5686531     53   22.5         1562    True  2015-12-21T12:38:21   \n",
       "1         7646044  14095    8.0         1479   False  2016-12-28T11:28:11   \n",
       "2         6411771    298  291.5         1624    True  2016-12-12T12:01:40   \n",
       "3         6248061  12335   36.0         1465    True  2016-07-07T11:44:09   \n",
       "4         6789251  12840   22.0         4033    True  2016-08-01T12:04:26   \n",
       "...           ...    ...    ...          ...     ...                  ...   \n",
       "192491    7099978   3594   42.5          727    True  2016-09-12T11:47:53   \n",
       "192492    7370190    608   33.0         1600   False  2016-12-21T13:26:23   \n",
       "192493    6659483  14967    7.5         4238    True  2016-07-25T12:13:02   \n",
       "192494    7013185     53   32.5         1465    True  2016-12-19T22:59:48   \n",
       "192495    6021411     53   18.0         1562    True  2016-05-19T08:14:18   \n",
       "\n",
       "        purchaseCount  \n",
       "0                 6.0  \n",
       "1                 0.0  \n",
       "2                 0.0  \n",
       "3                 0.0  \n",
       "4                 3.0  \n",
       "...               ...  \n",
       "192491           11.0  \n",
       "192492            0.0  \n",
       "192493            4.0  \n",
       "192494            9.0  \n",
       "192495           13.0  \n",
       "\n",
       "[192496 rows x 7 columns]"
      ],
      "text/html": "<div>\n<style scoped>\n    .dataframe tbody tr th:only-of-type {\n        vertical-align: middle;\n    }\n\n    .dataframe tbody tr th {\n        vertical-align: top;\n    }\n\n    .dataframe thead th {\n        text-align: right;\n    }\n</style>\n<table border=\"1\" class=\"dataframe\">\n  <thead>\n    <tr style=\"text-align: right;\">\n      <th></th>\n      <th>productId</th>\n      <th>brand</th>\n      <th>price</th>\n      <th>productType</th>\n      <th>onSale</th>\n      <th>dateOnSite</th>\n      <th>purchaseCount</th>\n    </tr>\n  </thead>\n  <tbody>\n    <tr>\n      <th>0</th>\n      <td>5686531</td>\n      <td>53</td>\n      <td>22.5</td>\n      <td>1562</td>\n      <td>True</td>\n      <td>2015-12-21T12:38:21</td>\n      <td>6.0</td>\n    </tr>\n    <tr>\n      <th>1</th>\n      <td>7646044</td>\n      <td>14095</td>\n      <td>8.0</td>\n      <td>1479</td>\n      <td>False</td>\n      <td>2016-12-28T11:28:11</td>\n      <td>0.0</td>\n    </tr>\n    <tr>\n      <th>2</th>\n      <td>6411771</td>\n      <td>298</td>\n      <td>291.5</td>\n      <td>1624</td>\n      <td>True</td>\n      <td>2016-12-12T12:01:40</td>\n      <td>0.0</td>\n    </tr>\n    <tr>\n      <th>3</th>\n      <td>6248061</td>\n      <td>12335</td>\n      <td>36.0</td>\n      <td>1465</td>\n      <td>True</td>\n      <td>2016-07-07T11:44:09</td>\n      <td>0.0</td>\n    </tr>\n    <tr>\n      <th>4</th>\n      <td>6789251</td>\n      <td>12840</td>\n      <td>22.0</td>\n      <td>4033</td>\n      <td>True</td>\n      <td>2016-08-01T12:04:26</td>\n      <td>3.0</td>\n    </tr>\n    <tr>\n      <th>...</th>\n      <td>...</td>\n      <td>...</td>\n      <td>...</td>\n      <td>...</td>\n      <td>...</td>\n      <td>...</td>\n      <td>...</td>\n    </tr>\n    <tr>\n      <th>192491</th>\n      <td>7099978</td>\n      <td>3594</td>\n      <td>42.5</td>\n      <td>727</td>\n      <td>True</td>\n      <td>2016-09-12T11:47:53</td>\n      <td>11.0</td>\n    </tr>\n    <tr>\n      <th>192492</th>\n      <td>7370190</td>\n      <td>608</td>\n      <td>33.0</td>\n      <td>1600</td>\n      <td>False</td>\n      <td>2016-12-21T13:26:23</td>\n      <td>0.0</td>\n    </tr>\n    <tr>\n      <th>192493</th>\n      <td>6659483</td>\n      <td>14967</td>\n      <td>7.5</td>\n      <td>4238</td>\n      <td>True</td>\n      <td>2016-07-25T12:13:02</td>\n      <td>4.0</td>\n    </tr>\n    <tr>\n      <th>192494</th>\n      <td>7013185</td>\n      <td>53</td>\n      <td>32.5</td>\n      <td>1465</td>\n      <td>True</td>\n      <td>2016-12-19T22:59:48</td>\n      <td>9.0</td>\n    </tr>\n    <tr>\n      <th>192495</th>\n      <td>6021411</td>\n      <td>53</td>\n      <td>18.0</td>\n      <td>1562</td>\n      <td>True</td>\n      <td>2016-05-19T08:14:18</td>\n      <td>13.0</td>\n    </tr>\n  </tbody>\n</table>\n<p>192496 rows × 7 columns</p>\n</div>"
     },
     "metadata": {},
     "execution_count": 52
    }
   ],
   "source": [
    "products_with_count"
   ]
  },
  {
   "cell_type": "code",
   "execution_count": 46,
   "metadata": {},
   "outputs": [
    {
     "output_type": "execute_result",
     "data": {
      "text/plain": [
       "        productId  brand  price  productType  onSale           dateOnSite\n",
       "0         5686531     53   22.5         1562    True  2015-12-21T12:38:21\n",
       "1         7646044  14095    8.0         1479   False  2016-12-28T11:28:11\n",
       "2         6411771    298  291.5         1624    True  2016-12-12T12:01:40\n",
       "3         6248061  12335   36.0         1465    True  2016-07-07T11:44:09\n",
       "4         6789251  12840   22.0         4033    True  2016-08-01T12:04:26\n",
       "...           ...    ...    ...          ...     ...                  ...\n",
       "192491    7099978   3594   42.5          727    True  2016-09-12T11:47:53\n",
       "192492    7370190    608   33.0         1600   False  2016-12-21T13:26:23\n",
       "192493    6659483  14967    7.5         4238    True  2016-07-25T12:13:02\n",
       "192494    7013185     53   32.5         1465    True  2016-12-19T22:59:48\n",
       "192495    6021411     53   18.0         1562    True  2016-05-19T08:14:18\n",
       "\n",
       "[192496 rows x 6 columns]"
      ],
      "text/html": "<div>\n<style scoped>\n    .dataframe tbody tr th:only-of-type {\n        vertical-align: middle;\n    }\n\n    .dataframe tbody tr th {\n        vertical-align: top;\n    }\n\n    .dataframe thead th {\n        text-align: right;\n    }\n</style>\n<table border=\"1\" class=\"dataframe\">\n  <thead>\n    <tr style=\"text-align: right;\">\n      <th></th>\n      <th>productId</th>\n      <th>brand</th>\n      <th>price</th>\n      <th>productType</th>\n      <th>onSale</th>\n      <th>dateOnSite</th>\n    </tr>\n  </thead>\n  <tbody>\n    <tr>\n      <th>0</th>\n      <td>5686531</td>\n      <td>53</td>\n      <td>22.5</td>\n      <td>1562</td>\n      <td>True</td>\n      <td>2015-12-21T12:38:21</td>\n    </tr>\n    <tr>\n      <th>1</th>\n      <td>7646044</td>\n      <td>14095</td>\n      <td>8.0</td>\n      <td>1479</td>\n      <td>False</td>\n      <td>2016-12-28T11:28:11</td>\n    </tr>\n    <tr>\n      <th>2</th>\n      <td>6411771</td>\n      <td>298</td>\n      <td>291.5</td>\n      <td>1624</td>\n      <td>True</td>\n      <td>2016-12-12T12:01:40</td>\n    </tr>\n    <tr>\n      <th>3</th>\n      <td>6248061</td>\n      <td>12335</td>\n      <td>36.0</td>\n      <td>1465</td>\n      <td>True</td>\n      <td>2016-07-07T11:44:09</td>\n    </tr>\n    <tr>\n      <th>4</th>\n      <td>6789251</td>\n      <td>12840</td>\n      <td>22.0</td>\n      <td>4033</td>\n      <td>True</td>\n      <td>2016-08-01T12:04:26</td>\n    </tr>\n    <tr>\n      <th>...</th>\n      <td>...</td>\n      <td>...</td>\n      <td>...</td>\n      <td>...</td>\n      <td>...</td>\n      <td>...</td>\n    </tr>\n    <tr>\n      <th>192491</th>\n      <td>7099978</td>\n      <td>3594</td>\n      <td>42.5</td>\n      <td>727</td>\n      <td>True</td>\n      <td>2016-09-12T11:47:53</td>\n    </tr>\n    <tr>\n      <th>192492</th>\n      <td>7370190</td>\n      <td>608</td>\n      <td>33.0</td>\n      <td>1600</td>\n      <td>False</td>\n      <td>2016-12-21T13:26:23</td>\n    </tr>\n    <tr>\n      <th>192493</th>\n      <td>6659483</td>\n      <td>14967</td>\n      <td>7.5</td>\n      <td>4238</td>\n      <td>True</td>\n      <td>2016-07-25T12:13:02</td>\n    </tr>\n    <tr>\n      <th>192494</th>\n      <td>7013185</td>\n      <td>53</td>\n      <td>32.5</td>\n      <td>1465</td>\n      <td>True</td>\n      <td>2016-12-19T22:59:48</td>\n    </tr>\n    <tr>\n      <th>192495</th>\n      <td>6021411</td>\n      <td>53</td>\n      <td>18.0</td>\n      <td>1562</td>\n      <td>True</td>\n      <td>2016-05-19T08:14:18</td>\n    </tr>\n  </tbody>\n</table>\n<p>192496 rows × 6 columns</p>\n</div>"
     },
     "metadata": {},
     "execution_count": 46
    }
   ],
   "source": [
    "# # load data\n",
    "# df = pd.read_csv(\"data/labels_training.txt\")\n",
    "products"
   ]
  },
  {
   "cell_type": "code",
   "execution_count": 1,
   "metadata": {},
   "outputs": [
    {
     "output_type": "error",
     "ename": "NameError",
     "evalue": "name 'filtered_purchases' is not defined",
     "traceback": [
      "\u001b[0;31m---------------------------------------------------------------------------\u001b[0m",
      "\u001b[0;31mNameError\u001b[0m                                 Traceback (most recent call last)",
      "\u001b[0;32m<ipython-input-1-d59c78ecbcec>\u001b[0m in \u001b[0;36m<module>\u001b[0;34m\u001b[0m\n\u001b[0;32m----> 1\u001b[0;31m \u001b[0mcustomers_count\u001b[0m \u001b[0;34m=\u001b[0m \u001b[0mfiltered_purchases\u001b[0m\u001b[0;34m.\u001b[0m\u001b[0mgroupby\u001b[0m\u001b[0;34m(\u001b[0m\u001b[0;34m'customerId'\u001b[0m\u001b[0;34m)\u001b[0m\u001b[0;34m.\u001b[0m\u001b[0magg\u001b[0m\u001b[0;34m(\u001b[0m\u001b[0;34m{\u001b[0m\u001b[0;34m'purchaseCount'\u001b[0m\u001b[0;34m:\u001b[0m\u001b[0;34m'sum'\u001b[0m\u001b[0;34m}\u001b[0m\u001b[0;34m)\u001b[0m\u001b[0;34m\u001b[0m\u001b[0;34m\u001b[0m\u001b[0m\n\u001b[0m\u001b[1;32m      2\u001b[0m \u001b[0mcustomers_count\u001b[0m\u001b[0;34m\u001b[0m\u001b[0;34m\u001b[0m\u001b[0m\n",
      "\u001b[0;31mNameError\u001b[0m: name 'filtered_purchases' is not defined"
     ]
    }
   ],
   "source": [
    "customers_count = filtered_purchases.groupby('customerId').agg({'purchaseCount':'sum'})\n",
    "customers_count"
   ]
  },
  {
   "cell_type": "code",
   "execution_count": 30,
   "metadata": {},
   "outputs": [
    {
     "output_type": "stream",
     "name": "stdout",
     "text": [
      "Nb nan : 142\n"
     ]
    }
   ],
   "source": [
    "import pandas as pd\n",
    "from main import process_date_col\n",
    "products = pd.read_csv(\"data/products.txt\")\n",
    "\n",
    "# date = pd.to_datetime(products['dateOnSite'], errors='coerce')\n",
    "# print(f'Nb nan : {date.dt.month.isna().sum()}')\n",
    "# date = date.fillna(date.median())\n",
    "\n",
    "# pd.DataFrame({\n",
    "#     # 'year':date.dt.year,\n",
    "#     'month':date.dt.month, # categorical 12\n",
    "#     'week':date.dt.isocalendar().week,# categorical 53\n",
    "#     'day':date.dt.day, # categorical 31\n",
    "#     'dayname':date.dt.day_name(), # categorical 7\n",
    "# })"
   ]
  },
  {
   "cell_type": "code",
   "execution_count": 52,
   "metadata": {},
   "outputs": [
    {
     "output_type": "execute_result",
     "data": {
      "text/plain": [
       "array(['Monday', 'Wednesday', 'Thursday', 'Friday', 'Tuesday', 'Saturday',\n",
       "       'Sunday'], dtype=object)"
      ]
     },
     "metadata": {},
     "execution_count": 52
    }
   ],
   "source": [
    "date.dt.year # not categorical\n",
    "date.dt.month # categorical 12\n",
    "date.dt.isocalendar().week # categorical 53\n",
    "date.dt.day # categorical 31\n",
    "date.dt.day_name().unique() # categorical 7"
   ]
  },
  {
   "cell_type": "code",
   "execution_count": 58,
   "metadata": {},
   "outputs": [
    {
     "output_type": "execute_result",
     "data": {
      "text/plain": [
       "        year  month  week  day    dayname\n",
       "0       2015     12    52   21     Monday\n",
       "1       2016     12    52   28  Wednesday\n",
       "2       2016     12    50   12     Monday\n",
       "3       2016      7    27    7   Thursday\n",
       "4       2016      8    31    1     Monday\n",
       "...      ...    ...   ...  ...        ...\n",
       "192491  2016      9    37   12     Monday\n",
       "192492  2016     12    51   21  Wednesday\n",
       "192493  2016      7    30   25     Monday\n",
       "192494  2016     12    51   19     Monday\n",
       "192495  2016      5    20   19   Thursday\n",
       "\n",
       "[192496 rows x 5 columns]"
      ],
      "text/html": "<div>\n<style scoped>\n    .dataframe tbody tr th:only-of-type {\n        vertical-align: middle;\n    }\n\n    .dataframe tbody tr th {\n        vertical-align: top;\n    }\n\n    .dataframe thead th {\n        text-align: right;\n    }\n</style>\n<table border=\"1\" class=\"dataframe\">\n  <thead>\n    <tr style=\"text-align: right;\">\n      <th></th>\n      <th>year</th>\n      <th>month</th>\n      <th>week</th>\n      <th>day</th>\n      <th>dayname</th>\n    </tr>\n  </thead>\n  <tbody>\n    <tr>\n      <th>0</th>\n      <td>2015</td>\n      <td>12</td>\n      <td>52</td>\n      <td>21</td>\n      <td>Monday</td>\n    </tr>\n    <tr>\n      <th>1</th>\n      <td>2016</td>\n      <td>12</td>\n      <td>52</td>\n      <td>28</td>\n      <td>Wednesday</td>\n    </tr>\n    <tr>\n      <th>2</th>\n      <td>2016</td>\n      <td>12</td>\n      <td>50</td>\n      <td>12</td>\n      <td>Monday</td>\n    </tr>\n    <tr>\n      <th>3</th>\n      <td>2016</td>\n      <td>7</td>\n      <td>27</td>\n      <td>7</td>\n      <td>Thursday</td>\n    </tr>\n    <tr>\n      <th>4</th>\n      <td>2016</td>\n      <td>8</td>\n      <td>31</td>\n      <td>1</td>\n      <td>Monday</td>\n    </tr>\n    <tr>\n      <th>...</th>\n      <td>...</td>\n      <td>...</td>\n      <td>...</td>\n      <td>...</td>\n      <td>...</td>\n    </tr>\n    <tr>\n      <th>192491</th>\n      <td>2016</td>\n      <td>9</td>\n      <td>37</td>\n      <td>12</td>\n      <td>Monday</td>\n    </tr>\n    <tr>\n      <th>192492</th>\n      <td>2016</td>\n      <td>12</td>\n      <td>51</td>\n      <td>21</td>\n      <td>Wednesday</td>\n    </tr>\n    <tr>\n      <th>192493</th>\n      <td>2016</td>\n      <td>7</td>\n      <td>30</td>\n      <td>25</td>\n      <td>Monday</td>\n    </tr>\n    <tr>\n      <th>192494</th>\n      <td>2016</td>\n      <td>12</td>\n      <td>51</td>\n      <td>19</td>\n      <td>Monday</td>\n    </tr>\n    <tr>\n      <th>192495</th>\n      <td>2016</td>\n      <td>5</td>\n      <td>20</td>\n      <td>19</td>\n      <td>Thursday</td>\n    </tr>\n  </tbody>\n</table>\n<p>192496 rows × 5 columns</p>\n</div>"
     },
     "metadata": {},
     "execution_count": 58
    }
   ],
   "source": []
  },
  {
   "cell_type": "code",
   "execution_count": null,
   "metadata": {},
   "outputs": [],
   "source": [
    "1"
   ]
  }
 ]
}